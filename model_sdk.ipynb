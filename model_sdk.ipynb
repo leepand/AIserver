{
 "cells": [
  {
   "cell_type": "code",
   "execution_count": 1,
   "metadata": {},
   "outputs": [
    {
     "name": "stdout",
     "output_type": "stream",
     "text": [
      "Writing setup.py\n"
     ]
    }
   ],
   "source": [
    "%%file setup.py\n",
    "from setuptools import setup, find_packages\n",
    "\n",
    "import AIFlysdk\n",
    "\n",
    "VERSION = AIFlysdk.__version__\n",
    "\n",
    "setup(name='AIFly',\n",
    "      version=VERSION,\n",
    "      description='AIFly Server and AIFly SDK',\n",
    "      author='ML Platform Dev Team @wanda',\n",
    "      license='Apache-2.0',\n",
    "      packages=find_packages(exclude=['contrib', 'docs', 'tests']),\n",
    "      install_requires=['requests', 'retrying', 'simplejson']\n",
    "      )\n"
   ]
  },
  {
   "cell_type": "code",
   "execution_count": null,
   "metadata": {},
   "outputs": [],
   "source": []
  }
 ],
 "metadata": {
  "kernelspec": {
   "display_name": "Python 2",
   "language": "python",
   "name": "python2"
  },
  "language_info": {
   "codemirror_mode": {
    "name": "ipython",
    "version": 2
   },
   "file_extension": ".py",
   "mimetype": "text/x-python",
   "name": "python",
   "nbconvert_exporter": "python",
   "pygments_lexer": "ipython2",
   "version": "2.7.13"
  }
 },
 "nbformat": 4,
 "nbformat_minor": 2
}
