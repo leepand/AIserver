{
 "cells": [
  {
   "cell_type": "code",
   "execution_count": 67,
   "metadata": {},
   "outputs": [
    {
     "data": {
      "text/plain": [
       "'{\"Init Model Service\": \"Success\"}'"
      ]
     },
     "execution_count": 67,
     "metadata": {},
     "output_type": "execute_result"
    }
   ],
   "source": [
    "import requests\n",
    "import json\n",
    "routing_del={'funcslist':['fib.fib','predict.predict']}\n",
    "r = requests.put('http://localhost:8000/AI_server/predict/',data = json.dumps(routing_del))\n",
    "r.content"
   ]
  },
  {
   "cell_type": "code",
   "execution_count": 75,
   "metadata": {},
   "outputs": [
    {
     "name": "stdout",
     "output_type": "stream",
     "text": [
      "200\n",
      "2\n",
      "0.0116539001465\n"
     ]
    }
   ],
   "source": [
    "import time\n",
    "t1=time.time()\n",
    "d3 = {'modelId':'fib', 'data':{'n':2}}\n",
    "\n",
    "response = requests.post('http://localhost:8000/AI_server/predict/', \n",
    "                         data= json.dumps(d3), \n",
    "                         headers={'Content-Type': 'application/json'})\n",
    "print(response.status_code)\n",
    "print(response.content)\n",
    "print(time.time()-t1)"
   ]
  },
  {
   "cell_type": "code",
   "execution_count": 76,
   "metadata": {},
   "outputs": [
    {
     "name": "stdout",
     "output_type": "stream",
     "text": [
      "200\n",
      "2\n",
      "0.0356688499451\n"
     ]
    }
   ],
   "source": [
    "import time\n",
    "t1=time.time()\n",
    "d3 = {'modelId':'predict', 'data':{'n':2}}\n",
    "\n",
    "response = requests.post('http://localhost:8000/AI_server/predict/', \n",
    "                         data= json.dumps(d3), \n",
    "                         headers={'Content-Type': 'application/json'})\n",
    "print(response.status_code)\n",
    "print(response.content)\n",
    "print(time.time()-t1)"
   ]
  },
  {
   "cell_type": "code",
   "execution_count": null,
   "metadata": {},
   "outputs": [],
   "source": [
    "gunicorn --daemon 'AlgoApp:loader()' --error-logfile gunicorn.log --access-logfile gunicorn_access.log"
   ]
  },
  {
   "cell_type": "code",
   "execution_count": 129,
   "metadata": {},
   "outputs": [
    {
     "data": {
      "text/plain": [
       "'{\"Init Model Service\": \"Success\"}'"
      ]
     },
     "execution_count": 129,
     "metadata": {},
     "output_type": "execute_result"
    }
   ],
   "source": [
    "import requests\n",
    "import json\n",
    "routing_del={'model_list':[['fib_model','1.0.2']]}\n",
    "r = requests.put('http://localhost:8000/AI_server/predict/',data = json.dumps(routing_del))\n",
    "r.content"
   ]
  },
  {
   "cell_type": "code",
   "execution_count": 130,
   "metadata": {},
   "outputs": [
    {
     "name": "stdout",
     "output_type": "stream",
     "text": [
      "200\n",
      "{\"result\": 2178309}\n",
      "0.901387929916\n"
     ]
    }
   ],
   "source": [
    "import time\n",
    "t1=time.time()\n",
    "d3 = {'modelId':'fib_model','model_version':'1.0.2', 'data':31}\n",
    "\n",
    "response = requests.post('http://localhost:8000/AI_server/predict/', \n",
    "                         data= json.dumps(d3), \n",
    "                         headers={'Content-Type': 'application/json'})\n",
    "print(response.status_code)\n",
    "print(response.content)\n",
    "print(time.time()-t1)"
   ]
  },
  {
   "cell_type": "code",
   "execution_count": 6,
   "metadata": {},
   "outputs": [
    {
     "data": {
      "text/plain": [
       "'{\"Init Model Service\": \"Success\"}'"
      ]
     },
     "execution_count": 6,
     "metadata": {},
     "output_type": "execute_result"
    }
   ],
   "source": [
    "import requests\n",
    "import json\n",
    "routing_del={'model_list':[['fib_model','1.0.2']]}\n",
    "r = requests.put('http://47.104.210.142:8080/AI_server/predict/',data = json.dumps(routing_del))\n",
    "r.content"
   ]
  },
  {
   "cell_type": "code",
   "execution_count": 1,
   "metadata": {},
   "outputs": [
    {
     "name": "stdout",
     "output_type": "stream",
     "text": [
      "500\n",
      "<html>\n",
      "  <head>\n",
      "    <title>Internal Server Error</title>\n",
      "  </head>\n",
      "  <body>\n",
      "    <h1><p>Internal Server Error</p></h1>\n",
      "    \n",
      "  </body>\n",
      "</html>\n",
      "\n",
      "0.0659470558167\n"
     ]
    }
   ],
   "source": [
    "import time\n",
    "import requests\n",
    "import json\n",
    "t1=time.time()\n",
    "d3 = {'modelId':'fib_model','model_version':'1.0.2', 'data':31}\n",
    "response =requests.post('http://47.104.210.142:8080/AI_server/predict/', \n",
    "                         data= json.dumps(d3), \n",
    "                         headers={'Content-Type': 'application/json'})\n",
    "print(response.status_code)\n",
    "print(response.content)\n",
    "print(time.time()-t1)"
   ]
  },
  {
   "cell_type": "code",
   "execution_count": 26,
   "metadata": {},
   "outputs": [
    {
     "name": "stdout",
     "output_type": "stream",
     "text": [
      "404\n",
      "<!DOCTYPE HTML PUBLIC \"-//W3C//DTD HTML 3.2 Final//EN\">\n",
      "<title>404 Not Found</title>\n",
      "<h1>Not Found</h1>\n",
      "<p>The requested URL was not found on the server.  If you entered the URL manually please check your spelling and try again.</p>\n",
      "\n",
      "0.0227560997009\n"
     ]
    }
   ],
   "source": [
    "import time\n",
    "import requests\n",
    "import json\n",
    "t1=time.time()\n",
    "d3 = {'modelId':'fib_model','model_version':'1.0.2', 'data':11}\n",
    "response =requests.post('http://127.0.0.1:8000/AI_server/predict/', \n",
    "                         data= json.dumps(d3), \n",
    "                         headers={'Content-Type': 'application/json'})\n",
    "print(response.status_code)\n",
    "print(response.content)\n",
    "print(time.time()-t1)"
   ]
  },
  {
   "cell_type": "code",
   "execution_count": 28,
   "metadata": {},
   "outputs": [
    {
     "name": "stdout",
     "output_type": "stream",
     "text": [
      "Result: {\"result\":\"NA\",\"stack_trace\":\"Model: (HelloWorldExample,1.0.0) doesn't exist. Deploy this model on Hunch \"}\n",
      "\n"
     ]
    }
   ],
   "source": [
    "import requests\n",
    "import json\n",
    "\n",
    "model_server_url = \"http://localhost:8000/predict\"\n",
    "params = {\"model_id\":\"HelloWorldExample\", \"model_version\":\"1.0.0\"}\n",
    "data = json.dumps(None)\n",
    "response = requests.post(model_server_url, params = params, json = data)\n",
    "print \"Result:\", response.content"
   ]
  },
  {
   "cell_type": "code",
   "execution_count": 44,
   "metadata": {},
   "outputs": [
    {
     "name": "stdout",
     "output_type": "stream",
     "text": [
      " Result: 144\n"
     ]
    }
   ],
   "source": [
    "import requests\n",
    "import json\n",
    "\n",
    "model_server_url = \"http://localhost:8000/predict\"\n",
    "params = {\"model_id\":\"fib_model\", \"model_version\":\"1.0.2\"}\n",
    "data = json.dumps({\"data\":11})\n",
    "response = requests.post(model_server_url, params = params, json = data)\n",
    "print \"Result:\", eval(response.content)['result']"
   ]
  },
  {
   "cell_type": "code",
   "execution_count": 30,
   "metadata": {},
   "outputs": [
    {
     "name": "stdout",
     "output_type": "stream",
     "text": [
      "Result: {\"Message\":\"Out of rotation\"}\n",
      "\n"
     ]
    }
   ],
   "source": [
    "import requests\n",
    "import json\n",
    "\n",
    "model_server_url = \"http://localhost:8000/health\"\n",
    "params = {\"model_id\":\"fib_model\", \"model_version\":\"1.0.2\"}\n",
    "data = json.dumps({'data':11})\n",
    "response = requests.get(model_server_url)\n",
    "print \"Result:\", response.content"
   ]
  },
  {
   "cell_type": "code",
   "execution_count": null,
   "metadata": {},
   "outputs": [],
   "source": []
  }
 ],
 "metadata": {
  "kernelspec": {
   "display_name": "Python 2",
   "language": "python",
   "name": "python2"
  },
  "language_info": {
   "codemirror_mode": {
    "name": "ipython",
    "version": 2
   },
   "file_extension": ".py",
   "mimetype": "text/x-python",
   "name": "python",
   "nbconvert_exporter": "python",
   "pygments_lexer": "ipython2",
   "version": "2.7.13"
  }
 },
 "nbformat": 4,
 "nbformat_minor": 2
}
