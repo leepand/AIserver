{
 "cells": [
  {
   "cell_type": "code",
   "execution_count": 12,
   "metadata": {},
   "outputs": [
    {
     "name": "stdout",
     "output_type": "stream",
     "text": [
      "Writing model_loader.py\n"
     ]
    }
   ],
   "source": [
    "%%file model_loader.py\n",
    "import importlib\n",
    "import os\n",
    "import sys\n",
    "from io import BytesIO\n",
    "from tarfile import TarFile\n",
    "import shutil\n",
    "import cloudpickle\n",
    "#from custom_package_deployer import CustomPackageDeployer\n",
    "from storage_clients.storage_client import get_storage_client\n",
    "\n",
    "class ModelLoader:\n",
    "    def __init__(self, AIFly_server_config):\n",
    "        self.__working_dir = AIFly_server_config[\"model_loader\"][\"working_dir\"]\n",
    "        self.__prediction_module_dir = self.__working_dir + '/prediction_modules'\n",
    "        self.__prediction_module_path = self.__prediction_module_dir + '/{model_id}_{model_version}/'\n",
    "        self.__model_resource_dir = self.__working_dir + '/model_resources'\n",
    "        self.__model_resource_path = self.__model_resource_dir + '/{model_id}_{model_version}/'\n",
    "        self.__prediction_module = '{model_id}_{model_version}'\n",
    "        #self.__custom_package_deployer = CustomPackageDeployer(hunch_server_config[\"custom_package_deployer\"])\n",
    "        self.__model_storage_backend = AIFly_server_config[\"model_storage\"][\"backend\"]\n",
    "        self.__model_storage_client_config = AIFly_server_config[\"model_storage\"][self.__model_storage_backend]\n",
    "\n",
    "\n",
    "    def deserialize_model(self, blob, model_id, model_version):\n",
    "        \"\"\"\n",
    "        Deserializes the given blob to Model object which can be used for predictions\n",
    "        :param blob:\n",
    "        :param model_id:\n",
    "        :param model_version:\n",
    "        :return:\n",
    "        \"\"\"\n",
    "        model_obj = cloudpickle.loads(blob)\n",
    "\n",
    "        if not isinstance(model_obj, dict):  # Is a plain cloud-pickled model\n",
    "            return model_obj\n",
    "\n",
    "        if isinstance(model_obj, dict) and 'custom_package_blob' in model_obj.keys():\n",
    "            self.__custom_package_deployer.install_custom_package(blob, model_id, model_version, delete_previous = True)\n",
    "\n",
    "        if 'serialization_mechanism' in model_obj and model_obj['serialization_mechanism'] == 'asm':  # Is an ASM model\n",
    "            self.__extract_model_resources(model_obj, model_id, model_version)\n",
    "            self.__extract_prediction_module(model_obj, model_id, model_version)\n",
    "            return self.__deserialize_asm_model(model_id, model_version)\n",
    "\n",
    "        # tar_file_content = model_obj['custom_package_blob']\n",
    "        # custom_package_name = model_obj['custom_package_name']\n",
    "        # custom_package_version = model_obj['custom_package_version']\n",
    "        return cloudpickle.loads(model_obj['model_blob'])  # Is a cloud-pickled model with custom code\n",
    "\n",
    "    def get_model(self, model_id, model_version):\n",
    "        \"\"\"\n",
    "        Downloads the model from Blob storage. Blob storage client implmentation is chosen based on the configuration\n",
    "        Args:\n",
    "            model_id:\n",
    "            model_version:\n",
    "        Returns:\n",
    "        \"\"\"\n",
    "        storage_client = get_storage_client(self.__model_storage_backend, self.__model_storage_client_config)\n",
    "        return storage_client.get_model_blob(model_id, model_version)\n",
    "\n",
    "    def get_models_from_list(self, models_list):\n",
    "        \"\"\"\n",
    "        Returns deseriliazed objects of the given models.\n",
    "        :param models_list:\n",
    "        :return:\n",
    "        \"\"\"\n",
    "        models = {}\n",
    "        for model_tuple in models_list:\n",
    "            model_blob = self.get_model(model_tuple[0], model_tuple[1])\n",
    "            models[(model_tuple[0], model_tuple[1])] =  self.deserialize_model(model_blob, model_tuple[0], model_tuple[1])\n",
    "        return models\n",
    "\n",
    "    def __deserialize_asm_model(self, model_id, model_version):\n",
    "        this_model_resources_dir = self.___model_resource_path(model_id, model_version)\n",
    "        this_prediction_module_path = self.___prediction_module_path(model_id, model_version)\n",
    "        sys.path.append(this_prediction_module_path)\n",
    "        prediction_module = importlib.import_module(self.__prediction_module.format(model_id=model_id, model_version=model_version.replace('.', '_')))\n",
    "        load_model = getattr(prediction_module, 'load_model')\n",
    "        model_instance = load_model(this_model_resources_dir)\n",
    "        return model_instance\n",
    "\n",
    "    def __extract_prediction_module(self, model_obj, model_id, model_version):\n",
    "        prediction_module_path = self.___prediction_module_path(model_id, model_version)\n",
    "        if not os.path.exists(prediction_module_path):\n",
    "            os.makedirs(prediction_module_path)\n",
    "\n",
    "        prediction_module_tar_contents = model_obj['model_predict_module']\n",
    "        with TarFile.open(fileobj=BytesIO(prediction_module_tar_contents), mode='r:bz2') as tar:\n",
    "            tar.extractall(prediction_module_path)\n",
    "        os.rename(prediction_module_path +'/model.py', prediction_module_path +'/' + self.__prediction_module.format(model_id=model_id, model_version=model_version.replace('.', '_')) + '.py')\n",
    "\n",
    "    def __extract_model_resources(self, model_obj, model_id, model_version):\n",
    "        model_resource_path = self.___model_resource_path(model_id, model_version)\n",
    "        if not os.path.exists(model_resource_path):\n",
    "            os.makedirs(model_resource_path)\n",
    "\n",
    "        model_resources_tar_contents = model_obj['modeldir_blob']\n",
    "        with TarFile.open(fileobj=BytesIO(model_resources_tar_contents), mode='r:bz2') as tar:\n",
    "            tar.extractall(model_resource_path)\n",
    "\n",
    "    def ___model_resource_path(self, model_id, model_version):\n",
    "        return self.__model_resource_path.format(model_id=model_id, model_version=model_version)\n",
    "\n",
    "    def ___prediction_module_path(self, model_id, model_version):\n",
    "        return self.__prediction_module_path.format(model_id=model_id, model_version=model_version)\n",
    "\n",
    "    def clean_up(self):\n",
    "        \"\"\"\n",
    "        Cleans up all model resources and prediction modules.\n",
    "        Returns:\n",
    "        \"\"\"\n",
    "        if os.path.exists(self.__model_resource_dir):\n",
    "            shutil.rmtree(self.__model_resource_dir)\n",
    "        if os.path.exists(self.__prediction_module_dir):\n",
    "            shutil.rmtree(self.__prediction_module_dir)"
   ]
  },
  {
   "cell_type": "code",
   "execution_count": null,
   "metadata": {},
   "outputs": [],
   "source": [
    "def deserialize_model( blob, model_id, model_version):\n",
    "        \"\"\"\n",
    "        Deserializes the given blob to Model object which can be used for predictions\n",
    "        :param blob:\n",
    "        :param model_id:\n",
    "        :param model_version:\n",
    "        :return:\n",
    "        \"\"\"\n",
    "        model_obj = cloudpickle.loads(blob)\n",
    "\n",
    "        if not isinstance(model_obj, dict):  # Is a plain cloud-pickled model\n",
    "            return model_obj\n",
    "\n",
    "        if isinstance(model_obj, dict) and 'custom_package_blob' in model_obj.keys():\n",
    "            self.__custom_package_deployer.install_custom_package(blob, model_id, model_version, delete_previous = True)\n",
    "\n",
    "        if 'serialization_mechanism' in model_obj and model_obj['serialization_mechanism'] == 'asm':  # Is an ASM model\n",
    "            self.__extract_model_resources(model_obj, model_id, model_version)\n",
    "            self.__extract_prediction_module(model_obj, model_id, model_version)\n",
    "            return self.__deserialize_asm_model(model_id, model_version)\n",
    "\n",
    "        # tar_file_content = model_obj['custom_package_blob']\n",
    "        # custom_package_name = model_obj['custom_package_name']\n",
    "        # custom_package_version = model_obj['custom_package_version']\n",
    "        return cloudpickle.loads(model_obj['model_blob'])  # Is a cloud-pickled model with custom code"
   ]
  },
  {
   "cell_type": "code",
   "execution_count": 3,
   "metadata": {},
   "outputs": [],
   "source": [
    "from storage_clients.storage_client import get_storage_client\n",
    "import yaml\n",
    "conf='config/AIFlyapi_config.yaml'\n",
    "with open(conf, 'rt') as f:\n",
    "    client_config = yaml.load(f.read())\n",
    "__model_storage_backend=client_config[\"model_storage\"][\"backend\"]\n",
    "__model_storage_client_config = client_config[\"model_storage\"][__model_storage_backend]\n",
    "model_id='_test'\n",
    "model_version='0.1'\n",
    "storage_client = get_storage_client(__model_storage_backend, __model_storage_client_config)\n",
    "model_blob=storage_client.get_model_blob(model_id, model_version)\n"
   ]
  },
  {
   "cell_type": "code",
   "execution_count": 12,
   "metadata": {},
   "outputs": [
    {
     "data": {
      "text/plain": [
       "{'gcc_details': {'gcc_version': '4.2.1', 'glibc_version': ''},\n",
       " 'model_predict_module': 'BZh91AY&SY\\xbdL\\x9b\\xaa\\x00\\x00\\xce\\xff\\x90\\xecp\\x02\\x80H\\xeb\\xff\\x92\\x10\\x00\\x00J\\xffw\\xde\\xe0\\x04\\x00\\x00\\x080\\x00\\xf9\\xb1\\x86\\xa6\\xa7\\xa8\\xd3I\\xa6\\xf4\\xa3\\x1a\\x80\\xc8\\r\\x00\\xd02\\x19\\x08\\x82b\\x08\\xc2z!\\xa6\\x98\\x8d\\xa9\\x9a\\x02i\\x93M0JB\\x1aj\\x1a4\\xd0\\xd02\\x06\\x81\\xa0\\xd04d\\xe1\\xca\\xdb%k\\x01\\x02\\x86\\x80\\x88i&}z\\x86\\x8f\\xa4\\x82\\x84@X,\\x8c#5\\x93(3S\\xe1\\xc4!\\xedB9 z\\x88\\x14\\xa1\\x90bd\\xeb\\xac\\xad\\xe6\\x0f\\xd5\\x1d\\xd6\\xc2\\xaa}:\\xa4ZT\\xc7\\x0eC %\\x96\\xce~ !\\x8c\\x00WB%\\x0c$\\xb0\\xeb*\\x0c\\xe9\\x8dB\\x01\\x80R\\x0bl\\xe9 \\\\\\x07\\x83\\\\!\\xe8%\\xa0\\x10\\xa4 \\xa5`\\xe6\\xa8\\xed\\xc9\\xf0\\x99b\\xb4\\x11{\\xd8!\\x12V \\xa5\\xaf\\rF\\x80pF\"\\xc5F\\xd2kMZkd*\\x8e4\\xbd\\x88\\xa9.4\\r\\x9c\\xc0;,\\x94:%\\x825\\xb9W9\\xf0$\\xb8b\\x8abn\\x0c+\\x16\\xd8Q\\xbe\\x1c!p$\\x0f\\xc1\\xf9(\\xbaO\\xac\\x9e\\x9b\\xe2\\x9dVJ\\xe2Ig-\\x99x\\xd6\"\\x07\\xf1w$S\\x85\\t\\x0b\\xd4\\xc9\\xba\\xa0',\n",
       " 'modeldir_blob': 'BZh91AY&SY1\\x81&|\\x00\\x00t\\xfb\\x90\\xea\\x90\\x82\\x80@\\x01\\xff\\x80\\x00@\\xe7g^@\\x04\\x00\\x00\\x08 \\x00\\x92\\x86\\x94\\xf5=M\\x1a\\x00\\x00\\xd0\\x07\\xa8\\x02I\\x14xQ\\xea\\x03L\\x8d\\x1e\\xa04mKbv>\\xee\\xdf|\\xc8\\xa4\\x05&\\x90\\x0b\\x0c\\x08(\\x0e\\x1em\\xe50\\x88\\\\0\\x908\\n9\\x0f2\\x1c{\\xf5\\xe0\\x85\\xf1\\x90 \\xafy\\x8b\\x11\\x82\\xa6\\xc2\\xac\\\\KHz\\x04s\\x83\\x02\\x12\\x15\\x96\\xb4\\x1c\\xcc0\\xd05\\x85\\x81$@\\x86E\\xc4U\\x035\\x0f\\x85\\nd<\\xf2sV\\x96\\xa1\\xea\\x03\\x0c|3-aFY\\xd8\\xa6\\xb1 \\xfe.\\xe4\\x8ap\\xa1 c\\x02L\\xf8',\n",
       " 'platform_details': {'architecture': 'x86_64',\n",
       "  'os_name': 'Darwin',\n",
       "  'os_version': ('', '', ''),\n",
       "  'processor': 'i386'},\n",
       " 'python_details': {'python_compiler': 'GCC 4.2.1 Compatible Apple LLVM 6.0 (clang-600.0.57)',\n",
       "  'python_implementation': 'CPython',\n",
       "  'python_version': '2.7.13'},\n",
       " 'serialization_mechanism': 'asm',\n",
       " 'specification_version': '1.0'}"
      ]
     },
     "execution_count": 12,
     "metadata": {},
     "output_type": "execute_result"
    }
   ],
   "source": [
    "import cloudpickle\n",
    "cloudpickle.loads(model_blob)"
   ]
  },
  {
   "cell_type": "code",
   "execution_count": 4,
   "metadata": {},
   "outputs": [
    {
     "name": "stderr",
     "output_type": "stream",
     "text": [
      "/Users/leepand/anaconda2/lib/python2.7/site-packages/h5py/__init__.py:36: FutureWarning: Conversion of the second argument of issubdtype from `float` to `np.floating` is deprecated. In future, it will be treated as `np.float64 == np.dtype(float).type`.\n",
      "  from ._conv import register_converters as _register_converters\n"
     ]
    },
    {
     "name": "stdout",
     "output_type": "stream",
     "text": [
      "INFO:tensorflow:Using default config.\n",
      "INFO:tensorflow:Using config: {'_save_checkpoints_secs': 600, '_session_config': None, '_keep_checkpoint_max': 5, '_task_type': 'worker', '_global_id_in_cluster': 0, '_is_chief': True, '_cluster_spec': <tensorflow.python.training.server_lib.ClusterSpec object at 0x121eefe50>, '_evaluation_master': '', '_save_checkpoints_steps': None, '_keep_checkpoint_every_n_hours': 10000, '_service': None, '_num_ps_replicas': 0, '_tf_random_seed': None, '_master': '', '_num_worker_replicas': 1, '_task_id': 0, '_log_step_count_steps': 100, '_model_dir': '/tmp/model_resources/TensorflowMnistExample_1.0.0/', '_save_summary_steps': 100}\n"
     ]
    }
   ],
   "source": [
    "models_loaded = {}\n",
    "from model_loader import ModelLoader\n",
    "model_list=[[\"HelloWorldExample\", \"1.0.0\"],[\"HelloAI2\", \"1.0.0\"],[\"TensorflowMnistExample\",\"1.0.0\"],['fib_model',\"1.0.2\"]]\n",
    "model_loader = ModelLoader(client_config)\n",
    "models_to_load=model_list\n",
    "models_loaded = model_loader.get_models_from_list(models_to_load)"
   ]
  },
  {
   "cell_type": "code",
   "execution_count": 17,
   "metadata": {},
   "outputs": [
    {
     "data": {
      "text/plain": [
       "{'model_loader': {'working_dir': '/tmp'},\n",
       " 'model_storage': {'backend': 'local_fs',\n",
       "  'local_fs': {'modelrepo_dir': './tmp/model_repo'},\n",
       "  's3': {'access_key': 'Dummy Access Key',\n",
       "   'bucket': 'Dummy S3 bucket',\n",
       "   'chunk_size': 134217728,\n",
       "   'endpoint': 'S3 Endpoint',\n",
       "   'max_error_retry': 5,\n",
       "   'secret_key': 'Dummy Scret Key',\n",
       "   'size_limit': 209715100}}}"
      ]
     },
     "execution_count": 17,
     "metadata": {},
     "output_type": "execute_result"
    }
   ],
   "source": [
    "client_config"
   ]
  },
  {
   "cell_type": "code",
   "execution_count": 5,
   "metadata": {},
   "outputs": [
    {
     "data": {
      "text/plain": [
       "{('HelloAI2', '1.0.0'): <__main__.HelloWorldModel instance at 0x10b6d0830>,\n",
       " ('HelloWorldExample',\n",
       "  '1.0.0'): <__main__.HelloWorldModel instance at 0x10b6d0710>,\n",
       " ('TensorflowMnistExample',\n",
       "  '1.0.0'): <TensorflowMnistExample_1_0_0.TensorflowMnistEstimator instance at 0x10b6d0e18>,\n",
       " ('fib_model', '1.0.2'): <fib_model_1_0_2.fib instance at 0x121f0c758>}"
      ]
     },
     "execution_count": 5,
     "metadata": {},
     "output_type": "execute_result"
    }
   ],
   "source": [
    "models_loaded"
   ]
  },
  {
   "cell_type": "code",
   "execution_count": 49,
   "metadata": {},
   "outputs": [
    {
     "ename": "TypeError",
     "evalue": "expected a string or other character buffer object",
     "output_type": "error",
     "traceback": [
      "\u001b[0;31m-----------------------------------------\u001b[0m",
      "\u001b[0;31mTypeError\u001b[0mTraceback (most recent call last)",
      "\u001b[0;32m<ipython-input-49-d4e2ceaac3b3>\u001b[0m in \u001b[0;36m<module>\u001b[0;34m()\u001b[0m\n\u001b[1;32m      2\u001b[0m \u001b[0;31m#dis.dis(models_loaded[('fib_model', '1.0.2')].predict)\u001b[0m\u001b[0;34m\u001b[0m\u001b[0;34m\u001b[0m\u001b[0m\n\u001b[1;32m      3\u001b[0m \u001b[0moo\u001b[0m\u001b[0;34m=\u001b[0m\u001b[0mopen\u001b[0m\u001b[0;34m(\u001b[0m\u001b[0;34m'class.txt'\u001b[0m\u001b[0;34m,\u001b[0m\u001b[0;34m'w'\u001b[0m\u001b[0;34m)\u001b[0m\u001b[0;34m\u001b[0m\u001b[0m\n\u001b[0;32m----> 4\u001b[0;31m \u001b[0moo\u001b[0m\u001b[0;34m.\u001b[0m\u001b[0mwrite\u001b[0m\u001b[0;34m(\u001b[0m\u001b[0mmodels_loaded\u001b[0m\u001b[0;34m[\u001b[0m\u001b[0;34m(\u001b[0m\u001b[0;34m'HelloAI2'\u001b[0m\u001b[0;34m,\u001b[0m \u001b[0;34m'1.0.0'\u001b[0m\u001b[0;34m)\u001b[0m\u001b[0;34m]\u001b[0m\u001b[0;34m)\u001b[0m\u001b[0;34m\u001b[0m\u001b[0m\n\u001b[0m\u001b[1;32m      5\u001b[0m \u001b[0moo\u001b[0m\u001b[0;34m.\u001b[0m\u001b[0mclose\u001b[0m\u001b[0;34m(\u001b[0m\u001b[0;34m)\u001b[0m\u001b[0;34m\u001b[0m\u001b[0m\n",
      "\u001b[0;31mTypeError\u001b[0m: expected a string or other character buffer object"
     ]
    }
   ],
   "source": [
    "import dis\n",
    "#dis.dis(models_loaded[('fib_model', '1.0.2')].predict)\n",
    "oo=open('class.txt','w')\n",
    "oo.write(models_loaded[('HelloAI2', '1.0.0')])\n",
    "oo.close()"
   ]
  },
  {
   "cell_type": "code",
   "execution_count": 47,
   "metadata": {},
   "outputs": [
    {
     "ename": "AttributeError",
     "evalue": "'module' object has no attribute 'rfind'",
     "output_type": "error",
     "traceback": [
      "\u001b[0;31m-----------------------------------------\u001b[0m",
      "\u001b[0;31mAttributeError\u001b[0mTraceback (most recent call last)",
      "\u001b[0;32m<ipython-input-47-2354a269c834>\u001b[0m in \u001b[0;36m<module>\u001b[0;34m()\u001b[0m\n\u001b[1;32m     14\u001b[0m \u001b[0;31m#inspect.getsource(models_loaded[('HelloAI2', '1.0.0')].predict)\u001b[0m\u001b[0;34m\u001b[0m\u001b[0;34m\u001b[0m\u001b[0m\n\u001b[1;32m     15\u001b[0m \u001b[0mx\u001b[0m\u001b[0;34m=\u001b[0m\u001b[0minspect\u001b[0m\u001b[0;34m.\u001b[0m\u001b[0mgetmodule\u001b[0m\u001b[0;34m(\u001b[0m\u001b[0mmodels_loaded\u001b[0m\u001b[0;34m[\u001b[0m\u001b[0;34m(\u001b[0m\u001b[0;34m'HelloAI2'\u001b[0m\u001b[0;34m,\u001b[0m \u001b[0;34m'1.0.0'\u001b[0m\u001b[0;34m)\u001b[0m\u001b[0;34m]\u001b[0m\u001b[0;34m)\u001b[0m\u001b[0;34m\u001b[0m\u001b[0m\n\u001b[0;32m---> 16\u001b[0;31m \u001b[0minspect\u001b[0m\u001b[0;34m.\u001b[0m\u001b[0mgetmoduleinfo\u001b[0m\u001b[0;34m(\u001b[0m\u001b[0mx\u001b[0m\u001b[0;34m)\u001b[0m\u001b[0;34m\u001b[0m\u001b[0m\n\u001b[0m",
      "\u001b[0;32m/Users/leepand/anaconda2/lib/python2.7/inspect.pyc\u001b[0m in \u001b[0;36mgetmoduleinfo\u001b[0;34m(path)\u001b[0m\n\u001b[1;32m    423\u001b[0m \u001b[0;32mdef\u001b[0m \u001b[0mgetmoduleinfo\u001b[0m\u001b[0;34m(\u001b[0m\u001b[0mpath\u001b[0m\u001b[0;34m)\u001b[0m\u001b[0;34m:\u001b[0m\u001b[0;34m\u001b[0m\u001b[0m\n\u001b[1;32m    424\u001b[0m     \u001b[0;34m\"\"\"Get the module name, suffix, mode, and module type for a given file.\"\"\"\u001b[0m\u001b[0;34m\u001b[0m\u001b[0m\n\u001b[0;32m--> 425\u001b[0;31m     \u001b[0mfilename\u001b[0m \u001b[0;34m=\u001b[0m \u001b[0mos\u001b[0m\u001b[0;34m.\u001b[0m\u001b[0mpath\u001b[0m\u001b[0;34m.\u001b[0m\u001b[0mbasename\u001b[0m\u001b[0;34m(\u001b[0m\u001b[0mpath\u001b[0m\u001b[0;34m)\u001b[0m\u001b[0;34m\u001b[0m\u001b[0m\n\u001b[0m\u001b[1;32m    426\u001b[0m     suffixes = map(lambda info:\n\u001b[1;32m    427\u001b[0m                    \u001b[0;34m(\u001b[0m\u001b[0;34m-\u001b[0m\u001b[0mlen\u001b[0m\u001b[0;34m(\u001b[0m\u001b[0minfo\u001b[0m\u001b[0;34m[\u001b[0m\u001b[0;36m0\u001b[0m\u001b[0;34m]\u001b[0m\u001b[0;34m)\u001b[0m\u001b[0;34m,\u001b[0m \u001b[0minfo\u001b[0m\u001b[0;34m[\u001b[0m\u001b[0;36m0\u001b[0m\u001b[0;34m]\u001b[0m\u001b[0;34m,\u001b[0m \u001b[0minfo\u001b[0m\u001b[0;34m[\u001b[0m\u001b[0;36m1\u001b[0m\u001b[0;34m]\u001b[0m\u001b[0;34m,\u001b[0m \u001b[0minfo\u001b[0m\u001b[0;34m[\u001b[0m\u001b[0;36m2\u001b[0m\u001b[0;34m]\u001b[0m\u001b[0;34m)\u001b[0m\u001b[0;34m,\u001b[0m\u001b[0;34m\u001b[0m\u001b[0m\n",
      "\u001b[0;32m/Users/leepand/anaconda2/lib/python2.7/posixpath.pyc\u001b[0m in \u001b[0;36mbasename\u001b[0;34m(p)\u001b[0m\n\u001b[1;32m    112\u001b[0m \u001b[0;32mdef\u001b[0m \u001b[0mbasename\u001b[0m\u001b[0;34m(\u001b[0m\u001b[0mp\u001b[0m\u001b[0;34m)\u001b[0m\u001b[0;34m:\u001b[0m\u001b[0;34m\u001b[0m\u001b[0m\n\u001b[1;32m    113\u001b[0m     \u001b[0;34m\"\"\"Returns the final component of a pathname\"\"\"\u001b[0m\u001b[0;34m\u001b[0m\u001b[0m\n\u001b[0;32m--> 114\u001b[0;31m     \u001b[0mi\u001b[0m \u001b[0;34m=\u001b[0m \u001b[0mp\u001b[0m\u001b[0;34m.\u001b[0m\u001b[0mrfind\u001b[0m\u001b[0;34m(\u001b[0m\u001b[0;34m'/'\u001b[0m\u001b[0;34m)\u001b[0m \u001b[0;34m+\u001b[0m \u001b[0;36m1\u001b[0m\u001b[0;34m\u001b[0m\u001b[0m\n\u001b[0m\u001b[1;32m    115\u001b[0m     \u001b[0;32mreturn\u001b[0m \u001b[0mp\u001b[0m\u001b[0;34m[\u001b[0m\u001b[0mi\u001b[0m\u001b[0;34m:\u001b[0m\u001b[0;34m]\u001b[0m\u001b[0;34m\u001b[0m\u001b[0m\n\u001b[1;32m    116\u001b[0m \u001b[0;34m\u001b[0m\u001b[0m\n",
      "\u001b[0;31mAttributeError\u001b[0m: 'module' object has no attribute 'rfind'"
     ]
    }
   ],
   "source": [
    "def get_caller(): \n",
    "    import inspect \n",
    "    try: \n",
    "        frame = inspect.currentframe()\n",
    "        call_frame = frame.f_back.f_back \n",
    "        call_frame_name = call_frame.f_code.co_varnames[0]\n",
    "        call_frame_self = call_frame.f_locals.get(call_frame_name, None) \n",
    "    except: \n",
    "        call_frame_self = None \n",
    "    finally: \n",
    "        del frame \n",
    "    return call_frame_self\n",
    "import inspect \n",
    "#inspect.getsource(models_loaded[('HelloAI2', '1.0.0')].predict)\n",
    "x=inspect.getmodule(models_loaded[('HelloAI2', '1.0.0')])\n",
    "inspect.getmoduleinfo(x)"
   ]
  },
  {
   "cell_type": "code",
   "execution_count": 28,
   "metadata": {},
   "outputs": [
    {
     "ename": "TypeError",
     "evalue": "can't pickle function objects",
     "output_type": "error",
     "traceback": [
      "\u001b[0;31m---------------------------------------\u001b[0m",
      "\u001b[0;31mTypeError\u001b[0mTraceback (most recent call last)",
      "\u001b[0;32m<ipython-input-28-ebd8dcdafca2>\u001b[0m in \u001b[0;36m<module>\u001b[0;34m()\u001b[0m\n\u001b[1;32m      1\u001b[0m \u001b[0;32mfrom\u001b[0m \u001b[0mredis_dict\u001b[0m \u001b[0;32mimport\u001b[0m \u001b[0mRedisDict\u001b[0m\u001b[0;34m\u001b[0m\u001b[0m\n\u001b[1;32m      2\u001b[0m \u001b[0mmapping_redis\u001b[0m\u001b[0;34m=\u001b[0m\u001b[0mRedisDict\u001b[0m\u001b[0;34m(\u001b[0m\u001b[0;34m'model_funcs_test'\u001b[0m\u001b[0;34m)\u001b[0m\u001b[0;34m\u001b[0m\u001b[0m\n\u001b[0;32m----> 3\u001b[0;31m \u001b[0mmapping_redis\u001b[0m\u001b[0;34m[\u001b[0m\u001b[0;34m'model'\u001b[0m\u001b[0;34m]\u001b[0m\u001b[0;34m=\u001b[0m\u001b[0mmodels_loaded\u001b[0m\u001b[0;34m\u001b[0m\u001b[0m\n\u001b[0m",
      "\u001b[0;32m/Users/leepand/Downloads/BigRLab_APIs/demoday_fs/web_lab/AIaas/AIserver/AIaasFly/AIFlysdk/redis_dict.py\u001b[0m in \u001b[0;36m__setitem__\u001b[0;34m(self, key, item)\u001b[0m\n\u001b[1;32m     44\u001b[0m     \u001b[0;32mdef\u001b[0m \u001b[0m__setitem__\u001b[0m\u001b[0;34m(\u001b[0m\u001b[0mself\u001b[0m\u001b[0;34m,\u001b[0m \u001b[0mkey\u001b[0m\u001b[0;34m,\u001b[0m \u001b[0mitem\u001b[0m\u001b[0;34m)\u001b[0m\u001b[0;34m:\u001b[0m\u001b[0;34m\u001b[0m\u001b[0m\n\u001b[1;32m     45\u001b[0m         self.connection.hset(self._self_key, pickle.dumps(key),\n\u001b[0;32m---> 46\u001b[0;31m                              pickle.dumps(item))\n\u001b[0m\u001b[1;32m     47\u001b[0m \u001b[0;34m\u001b[0m\u001b[0m\n\u001b[1;32m     48\u001b[0m     \u001b[0;32mdef\u001b[0m \u001b[0m__delitem__\u001b[0m\u001b[0;34m(\u001b[0m\u001b[0mself\u001b[0m\u001b[0;34m,\u001b[0m \u001b[0mkey\u001b[0m\u001b[0;34m)\u001b[0m\u001b[0;34m:\u001b[0m\u001b[0;34m\u001b[0m\u001b[0m\n",
      "\u001b[0;32m/Users/leepand/anaconda2/lib/python2.7/copy_reg.pyc\u001b[0m in \u001b[0;36m_reduce_ex\u001b[0;34m(self, proto)\u001b[0m\n\u001b[1;32m     68\u001b[0m     \u001b[0;32melse\u001b[0m\u001b[0;34m:\u001b[0m\u001b[0;34m\u001b[0m\u001b[0m\n\u001b[1;32m     69\u001b[0m         \u001b[0;32mif\u001b[0m \u001b[0mbase\u001b[0m \u001b[0;32mis\u001b[0m \u001b[0mself\u001b[0m\u001b[0;34m.\u001b[0m\u001b[0m__class__\u001b[0m\u001b[0;34m:\u001b[0m\u001b[0;34m\u001b[0m\u001b[0m\n\u001b[0;32m---> 70\u001b[0;31m             \u001b[0;32mraise\u001b[0m \u001b[0mTypeError\u001b[0m\u001b[0;34m,\u001b[0m \u001b[0;34m\"can't pickle %s objects\"\u001b[0m \u001b[0;34m%\u001b[0m \u001b[0mbase\u001b[0m\u001b[0;34m.\u001b[0m\u001b[0m__name__\u001b[0m\u001b[0;34m\u001b[0m\u001b[0m\n\u001b[0m\u001b[1;32m     71\u001b[0m         \u001b[0mstate\u001b[0m \u001b[0;34m=\u001b[0m \u001b[0mbase\u001b[0m\u001b[0;34m(\u001b[0m\u001b[0mself\u001b[0m\u001b[0;34m)\u001b[0m\u001b[0;34m\u001b[0m\u001b[0m\n\u001b[1;32m     72\u001b[0m     \u001b[0margs\u001b[0m \u001b[0;34m=\u001b[0m \u001b[0;34m(\u001b[0m\u001b[0mself\u001b[0m\u001b[0;34m.\u001b[0m\u001b[0m__class__\u001b[0m\u001b[0;34m,\u001b[0m \u001b[0mbase\u001b[0m\u001b[0;34m,\u001b[0m \u001b[0mstate\u001b[0m\u001b[0;34m)\u001b[0m\u001b[0;34m\u001b[0m\u001b[0m\n",
      "\u001b[0;31mTypeError\u001b[0m: can't pickle function objects"
     ]
    }
   ],
   "source": [
    "from redis_dict import RedisDict\n",
    "mapping_redis=RedisDict('model_funcs_test')\n",
    "mapping_redis['model']=models_loaded"
   ]
  },
  {
   "cell_type": "code",
   "execution_count": 29,
   "metadata": {},
   "outputs": [
    {
     "ename": "TypeError",
     "evalue": "can't pickle function objects",
     "output_type": "error",
     "traceback": [
      "\u001b[0;31m---------------------------------------\u001b[0m",
      "\u001b[0;31mTypeError\u001b[0mTraceback (most recent call last)",
      "\u001b[0;32m<ipython-input-29-d7a31cac7bdd>\u001b[0m in \u001b[0;36m<module>\u001b[0;34m()\u001b[0m\n\u001b[1;32m      5\u001b[0m \u001b[0mmodels_to_load\u001b[0m\u001b[0;34m=\u001b[0m\u001b[0mmodel_list\u001b[0m\u001b[0;34m\u001b[0m\u001b[0m\n\u001b[1;32m      6\u001b[0m \u001b[0mmodels_loaded2\u001b[0m \u001b[0;34m=\u001b[0m \u001b[0mmodel_loader\u001b[0m\u001b[0;34m.\u001b[0m\u001b[0mget_models_from_list\u001b[0m\u001b[0;34m(\u001b[0m\u001b[0mmodels_to_load\u001b[0m\u001b[0;34m)\u001b[0m\u001b[0;34m\u001b[0m\u001b[0m\n\u001b[0;32m----> 7\u001b[0;31m \u001b[0mmapping_redis\u001b[0m\u001b[0;34m[\u001b[0m\u001b[0;34m'model'\u001b[0m\u001b[0;34m]\u001b[0m\u001b[0;34m=\u001b[0m\u001b[0mmodels_loaded\u001b[0m\u001b[0;34m\u001b[0m\u001b[0m\n\u001b[0m",
      "\u001b[0;32m/Users/leepand/Downloads/BigRLab_APIs/demoday_fs/web_lab/AIaas/AIserver/AIaasFly/AIFlysdk/redis_dict.py\u001b[0m in \u001b[0;36m__setitem__\u001b[0;34m(self, key, item)\u001b[0m\n\u001b[1;32m     44\u001b[0m     \u001b[0;32mdef\u001b[0m \u001b[0m__setitem__\u001b[0m\u001b[0;34m(\u001b[0m\u001b[0mself\u001b[0m\u001b[0;34m,\u001b[0m \u001b[0mkey\u001b[0m\u001b[0;34m,\u001b[0m \u001b[0mitem\u001b[0m\u001b[0;34m)\u001b[0m\u001b[0;34m:\u001b[0m\u001b[0;34m\u001b[0m\u001b[0m\n\u001b[1;32m     45\u001b[0m         self.connection.hset(self._self_key, pickle.dumps(key),\n\u001b[0;32m---> 46\u001b[0;31m                              pickle.dumps(item))\n\u001b[0m\u001b[1;32m     47\u001b[0m \u001b[0;34m\u001b[0m\u001b[0m\n\u001b[1;32m     48\u001b[0m     \u001b[0;32mdef\u001b[0m \u001b[0m__delitem__\u001b[0m\u001b[0;34m(\u001b[0m\u001b[0mself\u001b[0m\u001b[0;34m,\u001b[0m \u001b[0mkey\u001b[0m\u001b[0;34m)\u001b[0m\u001b[0;34m:\u001b[0m\u001b[0;34m\u001b[0m\u001b[0m\n",
      "\u001b[0;32m/Users/leepand/anaconda2/lib/python2.7/copy_reg.pyc\u001b[0m in \u001b[0;36m_reduce_ex\u001b[0;34m(self, proto)\u001b[0m\n\u001b[1;32m     68\u001b[0m     \u001b[0;32melse\u001b[0m\u001b[0;34m:\u001b[0m\u001b[0;34m\u001b[0m\u001b[0m\n\u001b[1;32m     69\u001b[0m         \u001b[0;32mif\u001b[0m \u001b[0mbase\u001b[0m \u001b[0;32mis\u001b[0m \u001b[0mself\u001b[0m\u001b[0;34m.\u001b[0m\u001b[0m__class__\u001b[0m\u001b[0;34m:\u001b[0m\u001b[0;34m\u001b[0m\u001b[0m\n\u001b[0;32m---> 70\u001b[0;31m             \u001b[0;32mraise\u001b[0m \u001b[0mTypeError\u001b[0m\u001b[0;34m,\u001b[0m \u001b[0;34m\"can't pickle %s objects\"\u001b[0m \u001b[0;34m%\u001b[0m \u001b[0mbase\u001b[0m\u001b[0;34m.\u001b[0m\u001b[0m__name__\u001b[0m\u001b[0;34m\u001b[0m\u001b[0m\n\u001b[0m\u001b[1;32m     71\u001b[0m         \u001b[0mstate\u001b[0m \u001b[0;34m=\u001b[0m \u001b[0mbase\u001b[0m\u001b[0;34m(\u001b[0m\u001b[0mself\u001b[0m\u001b[0;34m)\u001b[0m\u001b[0;34m\u001b[0m\u001b[0m\n\u001b[1;32m     72\u001b[0m     \u001b[0margs\u001b[0m \u001b[0;34m=\u001b[0m \u001b[0;34m(\u001b[0m\u001b[0mself\u001b[0m\u001b[0;34m.\u001b[0m\u001b[0m__class__\u001b[0m\u001b[0;34m,\u001b[0m \u001b[0mbase\u001b[0m\u001b[0;34m,\u001b[0m \u001b[0mstate\u001b[0m\u001b[0;34m)\u001b[0m\u001b[0;34m\u001b[0m\u001b[0m\n",
      "\u001b[0;31mTypeError\u001b[0m: can't pickle function objects"
     ]
    }
   ],
   "source": [
    "models_loaded2 = {}\n",
    "from model_loader import ModelLoader\n",
    "model_list=[[\"HelloWorldExample\", \"1.0.0\"],[\"HelloAI2\", \"1.0.0\"]]\n",
    "model_loader = ModelLoader(client_config)\n",
    "models_to_load=model_list\n",
    "models_loaded2 = model_loader.get_models_from_list(models_to_load)\n",
    "mapping_redis['model']=models_loaded"
   ]
  },
  {
   "cell_type": "code",
   "execution_count": 8,
   "metadata": {},
   "outputs": [],
   "source": [
    "model_id, model_version=\"HelloWorldExample\", \"1.0.0\"\n",
    "import json\n",
    "key = (model_id, model_version)\n",
    "curr_model = models_loaded[key]\n",
    "input = json.dumps(None)\n",
    "output = curr_model.predict(input)"
   ]
  },
  {
   "cell_type": "code",
   "execution_count": 12,
   "metadata": {},
   "outputs": [
    {
     "data": {
      "text/plain": [
       "'\"I am ai server\"'"
      ]
     },
     "execution_count": 12,
     "metadata": {},
     "output_type": "execute_result"
    }
   ],
   "source": [
    "model_id, model_version=\"HelloAI2\", \"1.0.0\"\n",
    "import json\n",
    "key = (model_id, model_version)\n",
    "curr_model = models_loaded[key]\n",
    "input = json.dumps(None)\n",
    "output = curr_model.predict(input)\n",
    "output"
   ]
  },
  {
   "cell_type": "code",
   "execution_count": 27,
   "metadata": {},
   "outputs": [
    {
     "name": "stdout",
     "output_type": "stream",
     "text": [
      "INFO:tensorflow:Calling model_fn.\n",
      "INFO:tensorflow:Done calling model_fn.\n",
      "INFO:tensorflow:Graph was finalized.\n",
      "INFO:tensorflow:Restoring parameters from /tmp/model_resources/TensorflowMnistExample_1.0.0/model.ckpt-6000\n",
      "INFO:tensorflow:Running local_init_op.\n",
      "INFO:tensorflow:Done running local_init_op.\n"
     ]
    },
    {
     "data": {
      "text/plain": [
       "[1, 2]"
      ]
     },
     "execution_count": 27,
     "metadata": {},
     "output_type": "execute_result"
    }
   ],
   "source": [
    "model_id, model_version=\"TensorflowMnistExample\",\"1.0.0\"\n",
    "import json\n",
    "key = (model_id, model_version)\n",
    "curr_model = models_loaded[key]\n",
    "data = [[6.4, 3.2, 4.5, 1.5],[5.8, 3.1, 5.0, 1.7]]\n",
    "#json_payload = json.dumps(data)\n",
    "json_payload = json.loads('[[6.4, 3.2, 4.5, 1.5],[5.8, 3.1, 5.0, 1.7]]')\n",
    "output = curr_model.predict(json_payload)\n",
    "output"
   ]
  },
  {
   "cell_type": "code",
   "execution_count": 33,
   "metadata": {},
   "outputs": [
    {
     "ename": "TypeError",
     "evalue": "unsupported operand type(s) for -: 'dict' and 'int'",
     "output_type": "error",
     "traceback": [
      "\u001b[0;31m---------------------------------------\u001b[0m",
      "\u001b[0;31mTypeError\u001b[0mTraceback (most recent call last)",
      "\u001b[0;32m<ipython-input-33-4b10207292ae>\u001b[0m in \u001b[0;36m<module>\u001b[0;34m()\u001b[0m\n\u001b[1;32m      7\u001b[0m \u001b[0;31m#json_payload = json.loads(data)\u001b[0m\u001b[0;34m\u001b[0m\u001b[0;34m\u001b[0m\u001b[0m\n\u001b[1;32m      8\u001b[0m \u001b[0;31m#json_payload={'n':2}\u001b[0m\u001b[0;34m\u001b[0m\u001b[0;34m\u001b[0m\u001b[0m\n\u001b[0;32m----> 9\u001b[0;31m \u001b[0moutput\u001b[0m \u001b[0;34m=\u001b[0m \u001b[0mcurr_model\u001b[0m\u001b[0;34m.\u001b[0m\u001b[0mpredict\u001b[0m\u001b[0;34m(\u001b[0m\u001b[0mdata\u001b[0m\u001b[0;34m)\u001b[0m\u001b[0;34m\u001b[0m\u001b[0m\n\u001b[0m\u001b[1;32m     10\u001b[0m \u001b[0moutput\u001b[0m\u001b[0;34m\u001b[0m\u001b[0m\n",
      "\u001b[0;32m/tmp/prediction_modules/fib_model_1.0.2/fib_model_1_0_2.py\u001b[0m in \u001b[0;36mpredict\u001b[0;34m(self, n)\u001b[0m\n\u001b[1;32m     15\u001b[0m             \u001b[0;32mreturn\u001b[0m \u001b[0;36m1\u001b[0m\u001b[0;34m\u001b[0m\u001b[0m\n\u001b[1;32m     16\u001b[0m         \u001b[0;32melse\u001b[0m\u001b[0;34m:\u001b[0m\u001b[0;34m\u001b[0m\u001b[0m\n\u001b[0;32m---> 17\u001b[0;31m             \u001b[0;32mreturn\u001b[0m \u001b[0mself\u001b[0m\u001b[0;34m.\u001b[0m\u001b[0mpredict\u001b[0m\u001b[0;34m(\u001b[0m\u001b[0mn\u001b[0m\u001b[0;34m-\u001b[0m\u001b[0;36m1\u001b[0m\u001b[0;34m)\u001b[0m \u001b[0;34m+\u001b[0m \u001b[0mself\u001b[0m\u001b[0;34m.\u001b[0m\u001b[0mpredict\u001b[0m\u001b[0;34m(\u001b[0m\u001b[0mn\u001b[0m\u001b[0;34m-\u001b[0m\u001b[0;36m2\u001b[0m\u001b[0;34m)\u001b[0m\u001b[0;34m\u001b[0m\u001b[0m\n\u001b[0m\u001b[1;32m     18\u001b[0m \u001b[0;34m\u001b[0m\u001b[0m\n\u001b[1;32m     19\u001b[0m \u001b[0;34m\u001b[0m\u001b[0m\n",
      "\u001b[0;31mTypeError\u001b[0m: unsupported operand type(s) for -: 'dict' and 'int'"
     ]
    }
   ],
   "source": [
    "model_id, model_version=\"fib_model\",\"1.0.2\"\n",
    "import json\n",
    "key = (model_id, model_version)\n",
    "curr_model = models_loaded[key]\n",
    "data = {'n':2}\n",
    "#json_payload = json.dumps(data)\n",
    "#json_payload = json.loads(data)\n",
    "#json_payload={'n':2}\n",
    "output = curr_model.predict(data)\n",
    "output"
   ]
  },
  {
   "cell_type": "code",
   "execution_count": 36,
   "metadata": {},
   "outputs": [
    {
     "ename": "TypeError",
     "evalue": "decouple_files() got an unexpected keyword argument 'n'",
     "output_type": "error",
     "traceback": [
      "\u001b[0;31m---------------------------------------\u001b[0m",
      "\u001b[0;31mTypeError\u001b[0mTraceback (most recent call last)",
      "\u001b[0;32m<ipython-input-36-02f2b5cc189a>\u001b[0m in \u001b[0;36m<module>\u001b[0;34m()\u001b[0m\n\u001b[1;32m      6\u001b[0m \u001b[0;32mdef\u001b[0m \u001b[0mis_file\u001b[0m\u001b[0;34m(\u001b[0m \u001b[0mvalue\u001b[0m\u001b[0;34m)\u001b[0m\u001b[0;34m:\u001b[0m\u001b[0;34m\u001b[0m\u001b[0m\n\u001b[1;32m      7\u001b[0m     \u001b[0;32mreturn\u001b[0m \u001b[0mhasattr\u001b[0m\u001b[0;34m(\u001b[0m\u001b[0mvalue\u001b[0m\u001b[0;34m,\u001b[0m \u001b[0;34m'read'\u001b[0m\u001b[0;34m)\u001b[0m \u001b[0;32mor\u001b[0m \u001b[0mhasattr\u001b[0m\u001b[0;34m(\u001b[0m\u001b[0mvalue\u001b[0m\u001b[0;34m,\u001b[0m \u001b[0;34m'readlines'\u001b[0m\u001b[0;34m)\u001b[0m\u001b[0;34m\u001b[0m\u001b[0m\n\u001b[0;32m----> 8\u001b[0;31m \u001b[0mdecouple_files\u001b[0m\u001b[0;34m(\u001b[0m\u001b[0mn\u001b[0m\u001b[0;34m=\u001b[0m\u001b[0;36m2\u001b[0m\u001b[0;34m)\u001b[0m\u001b[0;34m\u001b[0m\u001b[0m\n\u001b[0m",
      "\u001b[0;31mTypeError\u001b[0m: decouple_files() got an unexpected keyword argument 'n'"
     ]
    }
   ],
   "source": [
    "def decouple_files( kwargs):\n",
    "    data = {arg: value for arg, value in kwargs.items() if not is_file(value)}\n",
    "    files = {arg: value for arg, value in kwargs.items() if is_file(value)}\n",
    "    return data, files\n",
    "\n",
    "def is_file( value):\n",
    "    return hasattr(value, 'read') or hasattr(value, 'readlines')\n",
    "decouple_files(n=2)"
   ]
  },
  {
   "cell_type": "code",
   "execution_count": 26,
   "metadata": {},
   "outputs": [
    {
     "name": "stdout",
     "output_type": "stream",
     "text": [
      "[[6.4, 3.2, 4.5, 1.5], [5.8, 3.1, 5.0, 1.7]]\n"
     ]
    }
   ],
   "source": [
    "print json.loads('[[6.4, 3.2, 4.5, 1.5],[5.8, 3.1, 5.0, 1.7]]')"
   ]
  },
  {
   "cell_type": "code",
   "execution_count": 11,
   "metadata": {},
   "outputs": [
    {
     "data": {
      "text/plain": [
       "{'gcc_details': {'gcc_version': '4.2.1', 'glibc_version': ''},\n",
       " 'model_predict_module': 'BZh91AY&SY\\xbdL\\x9b\\xaa\\x00\\x00\\xce\\xff\\x90\\xecp\\x02\\x80H\\xeb\\xff\\x92\\x10\\x00\\x00J\\xffw\\xde\\xe0\\x04\\x00\\x00\\x080\\x00\\xf9\\xb1\\x86\\xa6\\xa7\\xa8\\xd3I\\xa6\\xf4\\xa3\\x1a\\x80\\xc8\\r\\x00\\xd02\\x19\\x08\\x82b\\x08\\xc2z!\\xa6\\x98\\x8d\\xa9\\x9a\\x02i\\x93M0JB\\x1aj\\x1a4\\xd0\\xd02\\x06\\x81\\xa0\\xd04d\\xe1\\xca\\xdb%k\\x01\\x02\\x86\\x80\\x88i&}z\\x86\\x8f\\xa4\\x82\\x84@X,\\x8c#5\\x93(3S\\xe1\\xc4!\\xedB9 z\\x88\\x14\\xa1\\x90bd\\xeb\\xac\\xad\\xe6\\x0f\\xd5\\x1d\\xd6\\xc2\\xaa}:\\xa4ZT\\xc7\\x0eC %\\x96\\xce~ !\\x8c\\x00WB%\\x0c$\\xb0\\xeb*\\x0c\\xe9\\x8dB\\x01\\x80R\\x0bl\\xe9 \\\\\\x07\\x83\\\\!\\xe8%\\xa0\\x10\\xa4 \\xa5`\\xe6\\xa8\\xed\\xc9\\xf0\\x99b\\xb4\\x11{\\xd8!\\x12V \\xa5\\xaf\\rF\\x80pF\"\\xc5F\\xd2kMZkd*\\x8e4\\xbd\\x88\\xa9.4\\r\\x9c\\xc0;,\\x94:%\\x825\\xb9W9\\xf0$\\xb8b\\x8abn\\x0c+\\x16\\xd8Q\\xbe\\x1c!p$\\x0f\\xc1\\xf9(\\xbaO\\xac\\x9e\\x9b\\xe2\\x9dVJ\\xe2Ig-\\x99x\\xd6\"\\x07\\xf1w$S\\x85\\t\\x0b\\xd4\\xc9\\xba\\xa0',\n",
       " 'modeldir_blob': 'BZh91AY&SY1\\x81&|\\x00\\x00t\\xfb\\x90\\xea\\x90\\x82\\x80@\\x01\\xff\\x80\\x00@\\xe7g^@\\x04\\x00\\x00\\x08 \\x00\\x92\\x86\\x94\\xf5=M\\x1a\\x00\\x00\\xd0\\x07\\xa8\\x02I\\x14xQ\\xea\\x03L\\x8d\\x1e\\xa04mKbv>\\xee\\xdf|\\xc8\\xa4\\x05&\\x90\\x0b\\x0c\\x08(\\x0e\\x1em\\xe50\\x88\\\\0\\x908\\n9\\x0f2\\x1c{\\xf5\\xe0\\x85\\xf1\\x90 \\xafy\\x8b\\x11\\x82\\xa6\\xc2\\xac\\\\KHz\\x04s\\x83\\x02\\x12\\x15\\x96\\xb4\\x1c\\xcc0\\xd05\\x85\\x81$@\\x86E\\xc4U\\x035\\x0f\\x85\\nd<\\xf2sV\\x96\\xa1\\xea\\x03\\x0c|3-aFY\\xd8\\xa6\\xb1 \\xfe.\\xe4\\x8ap\\xa1 c\\x02L\\xf8',\n",
       " 'platform_details': {'architecture': 'x86_64',\n",
       "  'os_name': 'Darwin',\n",
       "  'os_version': ('', '', ''),\n",
       "  'processor': 'i386'},\n",
       " 'python_details': {'python_compiler': 'GCC 4.2.1 Compatible Apple LLVM 6.0 (clang-600.0.57)',\n",
       "  'python_implementation': 'CPython',\n",
       "  'python_version': '2.7.13'},\n",
       " 'serialization_mechanism': 'asm',\n",
       " 'specification_version': '1.0'}"
      ]
     },
     "execution_count": 11,
     "metadata": {},
     "output_type": "execute_result"
    }
   ],
   "source": [
    "import cloudpickle\n",
    "cloudpickle.loads(model_blob)"
   ]
  },
  {
   "cell_type": "code",
   "execution_count": null,
   "metadata": {},
   "outputs": [],
   "source": []
  },
  {
   "cell_type": "code",
   "execution_count": 3,
   "metadata": {},
   "outputs": [
    {
     "data": {
      "text/plain": [
       "<model_loader.ModelLoader instance at 0x107b7dbd8>"
      ]
     },
     "execution_count": 3,
     "metadata": {},
     "output_type": "execute_result"
    }
   ],
   "source": [
    "model_loader"
   ]
  },
  {
   "cell_type": "code",
   "execution_count": 4,
   "metadata": {},
   "outputs": [
    {
     "data": {
      "text/plain": [
       "{'TERM_PROGRAM_VERSION': '3.1.6', 'LOGNAME': 'leepand', 'USER': 'leepand', 'HOME': '/Users/leepand', 'PATH': '/Users/leepand/anaconda2/bin:/Users/leepand/anaconda2/bin:/usr/local/opt/bison/bin:/usr/local/include/:/usr/bin/openssl:/Users/leepand/anaconda2/bin:/usr/local/Cellar/gcc@6/6.4.0_2/bin/:/usr/local/bin:/usr/bin:/bin:/usr/sbin:/sbin', 'LD_LIBRARY_PATH': 'LD_LIBRARY_PATH::/usr/local/include/:', 'TERM_PROGRAM': 'iTerm.app', 'LANG': 'en_US.UTF-8', 'TERM': 'xterm-color', 'Apple_PubSub_Socket_Render': '/private/tmp/com.apple.launchd.mhLz0nyZxR/Render', 'COLORFGBG': '7;0', 'SHLVL': '1', 'BISON_HOME': '/usr/local/opt/bison/bin', 'SECURITYSESSIONID': '186a7', 'XPC_FLAGS': '0x0', 'ITERM_SESSION_ID': 'w0t11p0:A509DE31-DFA6-46BB-B92C-2CE77AC311A5', '_': '/Users/leepand/anaconda2/bin/jupyter', 'TERM_SESSION_ID': 'w0t11p0:A509DE31-DFA6-46BB-B92C-2CE77AC311A5', 'SSH_AUTH_SOCK': '/private/tmp/com.apple.launchd.zQv6cCppFu/Listeners', 'JPY_PARENT_PID': '834', 'XPC_SERVICE_NAME': '0', 'SHELL': '/bin/bash', 'GIT_PAGER': 'cat', 'ITERM_PROFILE': 'Default', 'LC_ALL': 'en_US.UTF-8', 'TMPDIR': '/var/folders/sl/gjmcfy096kqcf_rrr4_8tvlh0000gn/T/', 'MPLBACKEND': 'module://ipykernel.pylab.backend_inline', 'CLICOLOR': '1', '__CF_USER_TEXT_ENCODING': '0x1F5:0x19:0x34', 'PWD': '/Users/leepand/Downloads/BigRLab_APIs/demoday_fs/web_lab/AIaas', 'COLORTERM': 'truecolor', 'PAGER': 'cat', 'COMMAND_MODE': 'unix2003'}"
      ]
     },
     "execution_count": 4,
     "metadata": {},
     "output_type": "execute_result"
    }
   ],
   "source": [
    "import os\n",
    "\n",
    "os.environ"
   ]
  },
  {
   "cell_type": "code",
   "execution_count": 35,
   "metadata": {},
   "outputs": [
    {
     "data": {
      "text/plain": [
       "{'H': 'hydrogen', 'g': 'hydrogen'}"
      ]
     },
     "execution_count": 35,
     "metadata": {},
     "output_type": "execute_result"
    }
   ],
   "source": [
    "{'H': 'hydrogen','g':'hydrogen'}"
   ]
  },
  {
   "cell_type": "code",
   "execution_count": 36,
   "metadata": {},
   "outputs": [
    {
     "data": {
      "text/plain": [
       "'hydrogen'"
      ]
     },
     "execution_count": 36,
     "metadata": {},
     "output_type": "execute_result"
    }
   ],
   "source": [
    "from bidict import bidict\n",
    "element_by_symbol = bidict({'H': 'hydrogen','g':'hydrdogen'})\n",
    "element_by_symbol['H']\n",
    "\n",
    "\n"
   ]
  },
  {
   "cell_type": "code",
   "execution_count": 37,
   "metadata": {},
   "outputs": [
    {
     "data": {
      "text/plain": [
       "'H'"
      ]
     },
     "execution_count": 37,
     "metadata": {},
     "output_type": "execute_result"
    }
   ],
   "source": [
    "element_by_symbol.inv['hydrogen']"
   ]
  },
  {
   "cell_type": "code",
   "execution_count": 1,
   "metadata": {},
   "outputs": [
    {
     "ename": "ZipImportError",
     "evalue": "bad local file header: /Users/leepand/anaconda2/lib/python2.7/site-packages/AIFly-0.1.2-py2.7.egg",
     "output_type": "error",
     "traceback": [
      "\u001b[0;31m-----------------------------------------------------------------\u001b[0m",
      "\u001b[0;31mZipImportError\u001b[0m                  Traceback (most recent call last)",
      "\u001b[0;32m<ipython-input-1-f0c5a5a0d167>\u001b[0m in \u001b[0;36m<module>\u001b[0;34m()\u001b[0m\n\u001b[1;32m      8\u001b[0m \u001b[0mmodel_id\u001b[0m\u001b[0;34m=\u001b[0m\u001b[0;34m'_test'\u001b[0m\u001b[0;34m\u001b[0m\u001b[0m\n\u001b[1;32m      9\u001b[0m \u001b[0mmodel_version\u001b[0m\u001b[0;34m=\u001b[0m\u001b[0;34m'0.1'\u001b[0m\u001b[0;34m\u001b[0m\u001b[0m\n\u001b[0;32m---> 10\u001b[0;31m \u001b[0mstorage_client\u001b[0m \u001b[0;34m=\u001b[0m \u001b[0mget_storage_client\u001b[0m\u001b[0;34m(\u001b[0m\u001b[0m__model_storage_backend\u001b[0m\u001b[0;34m,\u001b[0m \u001b[0m__model_storage_client_config\u001b[0m\u001b[0;34m)\u001b[0m\u001b[0;34m\u001b[0m\u001b[0m\n\u001b[0m\u001b[1;32m     11\u001b[0m \u001b[0mmodel_blob\u001b[0m\u001b[0;34m=\u001b[0m\u001b[0mstorage_client\u001b[0m\u001b[0;34m.\u001b[0m\u001b[0mget_model_blob\u001b[0m\u001b[0;34m(\u001b[0m\u001b[0mmodel_id\u001b[0m\u001b[0;34m,\u001b[0m \u001b[0mmodel_version\u001b[0m\u001b[0;34m)\u001b[0m\u001b[0;34m\u001b[0m\u001b[0m\n",
      "\u001b[0;32m/Users/leepand/Downloads/BigRLab_APIs/demoday_fs/web_lab/AIserver/AIFlysdk/storage_clients/storage_client.pyc\u001b[0m in \u001b[0;36mget_storage_client\u001b[0;34m(model_storage_backend, model_storage_client_config)\u001b[0m\n\u001b[1;32m     10\u001b[0m     \"\"\"\n\u001b[1;32m     11\u001b[0m     \u001b[0mpackage\u001b[0m \u001b[0;34m=\u001b[0m \u001b[0;34m\"AIFlysdk.storage_clients.\"\u001b[0m \u001b[0;34m+\u001b[0m \u001b[0mmodel_storage_backend\u001b[0m\u001b[0;31m#AIFlysdk.\u001b[0m\u001b[0;34m\u001b[0m\u001b[0m\n\u001b[0;32m---> 12\u001b[0;31m     \u001b[0mstorage_client_module\u001b[0m \u001b[0;34m=\u001b[0m \u001b[0mimportlib\u001b[0m\u001b[0;34m.\u001b[0m\u001b[0mimport_module\u001b[0m\u001b[0;34m(\u001b[0m\u001b[0;34m\".storage_client\"\u001b[0m\u001b[0;34m,\u001b[0m \u001b[0mpackage\u001b[0m\u001b[0;34m)\u001b[0m\u001b[0;34m\u001b[0m\u001b[0m\n\u001b[0m\u001b[1;32m     13\u001b[0m     \u001b[0mStorageClient\u001b[0m \u001b[0;34m=\u001b[0m \u001b[0mgetattr\u001b[0m\u001b[0;34m(\u001b[0m\u001b[0mstorage_client_module\u001b[0m\u001b[0;34m,\u001b[0m \u001b[0;34m'StorageClient'\u001b[0m\u001b[0;34m)\u001b[0m\u001b[0;34m\u001b[0m\u001b[0m\n\u001b[1;32m     14\u001b[0m     \u001b[0;32mreturn\u001b[0m \u001b[0mStorageClient\u001b[0m\u001b[0;34m(\u001b[0m\u001b[0mmodel_storage_client_config\u001b[0m\u001b[0;34m)\u001b[0m\u001b[0;34m\u001b[0m\u001b[0m\n",
      "\u001b[0;32m/Users/leepand/anaconda2/lib/python2.7/importlib/__init__.pyc\u001b[0m in \u001b[0;36mimport_module\u001b[0;34m(name, package)\u001b[0m\n\u001b[1;32m     35\u001b[0m             \u001b[0mlevel\u001b[0m \u001b[0;34m+=\u001b[0m \u001b[0;36m1\u001b[0m\u001b[0;34m\u001b[0m\u001b[0m\n\u001b[1;32m     36\u001b[0m         \u001b[0mname\u001b[0m \u001b[0;34m=\u001b[0m \u001b[0m_resolve_name\u001b[0m\u001b[0;34m(\u001b[0m\u001b[0mname\u001b[0m\u001b[0;34m[\u001b[0m\u001b[0mlevel\u001b[0m\u001b[0;34m:\u001b[0m\u001b[0;34m]\u001b[0m\u001b[0;34m,\u001b[0m \u001b[0mpackage\u001b[0m\u001b[0;34m,\u001b[0m \u001b[0mlevel\u001b[0m\u001b[0;34m)\u001b[0m\u001b[0;34m\u001b[0m\u001b[0m\n\u001b[0;32m---> 37\u001b[0;31m     \u001b[0m__import__\u001b[0m\u001b[0;34m(\u001b[0m\u001b[0mname\u001b[0m\u001b[0;34m)\u001b[0m\u001b[0;34m\u001b[0m\u001b[0m\n\u001b[0m\u001b[1;32m     38\u001b[0m     \u001b[0;32mreturn\u001b[0m \u001b[0msys\u001b[0m\u001b[0;34m.\u001b[0m\u001b[0mmodules\u001b[0m\u001b[0;34m[\u001b[0m\u001b[0mname\u001b[0m\u001b[0;34m]\u001b[0m\u001b[0;34m\u001b[0m\u001b[0m\n",
      "\u001b[0;31mZipImportError\u001b[0m: bad local file header: /Users/leepand/anaconda2/lib/python2.7/site-packages/AIFly-0.1.2-py2.7.egg"
     ]
    }
   ],
   "source": [
    "from storage_clients.storage_client import get_storage_client\n",
    "import yaml\n",
    "conf='config/AIFlyapi_config.yaml'\n",
    "with open(conf, 'rt') as f:\n",
    "    client_config = yaml.load(f.read())\n",
    "__model_storage_backend=client_config[\"model_storage\"][\"backend\"]\n",
    "__model_storage_client_config = client_config[\"model_storage\"][__model_storage_backend]\n",
    "model_id='_test'\n",
    "model_version='0.1'\n",
    "storage_client = get_storage_client(__model_storage_backend, __model_storage_client_config)\n",
    "model_blob=storage_client.get_model_blob(model_id, model_version)\n"
   ]
  },
  {
   "cell_type": "code",
   "execution_count": 3,
   "metadata": {},
   "outputs": [
    {
     "data": {
      "text/plain": [
       "'1'"
      ]
     },
     "execution_count": 3,
     "metadata": {},
     "output_type": "execute_result"
    }
   ],
   "source": [
    "x=1\n",
    "str(x)"
   ]
  },
  {
   "cell_type": "code",
   "execution_count": null,
   "metadata": {},
   "outputs": [],
   "source": []
  }
 ],
 "metadata": {
  "kernelspec": {
   "display_name": "Python 2",
   "language": "python",
   "name": "python2"
  },
  "language_info": {
   "codemirror_mode": {
    "name": "ipython",
    "version": 2
   },
   "file_extension": ".py",
   "mimetype": "text/x-python",
   "name": "python",
   "nbconvert_exporter": "python",
   "pygments_lexer": "ipython2",
   "version": "2.7.13"
  }
 },
 "nbformat": 4,
 "nbformat_minor": 2
}
