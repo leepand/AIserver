{
 "cells": [
  {
   "cell_type": "code",
   "execution_count": 11,
   "metadata": {},
   "outputs": [
    {
     "data": {
      "text/plain": [
       "'[1, 2, 3, 4, 5, 6]'"
      ]
     },
     "execution_count": 11,
     "metadata": {},
     "output_type": "execute_result"
    }
   ],
   "source": [
    "import numpy as np\n",
    "import json\n",
    "class NumpyEncoder(json.JSONEncoder):\n",
    "    def default(self, obj):\n",
    "        if isinstance(obj, np.ndarray):\n",
    "            return obj.tolist()\n",
    "        return json.JSONEncoder.default(self, obj)\n",
    "\n",
    "result=[5,3]\n",
    "json.dumps(x, cls=NumpyEncoder)"
   ]
  },
  {
   "cell_type": "code",
   "execution_count": null,
   "metadata": {},
   "outputs": [],
   "source": []
  },
  {
   "cell_type": "code",
   "execution_count": 7,
   "metadata": {},
   "outputs": [],
   "source": [
    "data = [1,2,3,4,5,6]\n",
    "x = np.array(data)"
   ]
  },
  {
   "cell_type": "code",
   "execution_count": 8,
   "metadata": {},
   "outputs": [
    {
     "data": {
      "text/plain": [
       "array([1, 2, 3, 4, 5, 6])"
      ]
     },
     "execution_count": 8,
     "metadata": {},
     "output_type": "execute_result"
    }
   ],
   "source": [
    "x"
   ]
  },
  {
   "cell_type": "code",
   "execution_count": 1,
   "metadata": {},
   "outputs": [
    {
     "ename": "KeyError",
     "evalue": "'rotation_status_file'",
     "output_type": "error",
     "traceback": [
      "\u001b[0;31m-----------------------------------------------------------------\u001b[0m",
      "\u001b[0;31mKeyError\u001b[0m                        Traceback (most recent call last)",
      "\u001b[0;32m<ipython-input-1-43d0b3808ab4>\u001b[0m in \u001b[0;36m<module>\u001b[0;34m()\u001b[0m\n\u001b[1;32m      8\u001b[0m             \u001b[0mhunch_server_config\u001b[0m \u001b[0;34m=\u001b[0m \u001b[0myaml\u001b[0m\u001b[0;34m.\u001b[0m\u001b[0mload\u001b[0m\u001b[0;34m(\u001b[0m\u001b[0mf\u001b[0m\u001b[0;34m)\u001b[0m\u001b[0;34m\u001b[0m\u001b[0m\n\u001b[1;32m      9\u001b[0m \u001b[0;34m\u001b[0m\u001b[0m\n\u001b[0;32m---> 10\u001b[0;31m \u001b[0mROTATION_FILE_PATH\u001b[0m \u001b[0;34m=\u001b[0m \u001b[0mhunch_server_config\u001b[0m\u001b[0;34m[\u001b[0m\u001b[0;34m\"rotation_status_file\"\u001b[0m\u001b[0;34m]\u001b[0m\u001b[0;34m\u001b[0m\u001b[0m\n\u001b[0m\u001b[1;32m     11\u001b[0m \u001b[0mapp\u001b[0m \u001b[0;34m=\u001b[0m \u001b[0mFlask\u001b[0m\u001b[0;34m(\u001b[0m\u001b[0m__name__\u001b[0m\u001b[0;34m)\u001b[0m\u001b[0;34m\u001b[0m\u001b[0m\n\u001b[1;32m     12\u001b[0m \u001b[0mapp\u001b[0m\u001b[0;34m.\u001b[0m\u001b[0mlogger_name\u001b[0m \u001b[0;34m=\u001b[0m \u001b[0;34m\"hunch.app\"\u001b[0m\u001b[0;34m\u001b[0m\u001b[0m\n",
      "\u001b[0;31mKeyError\u001b[0m: 'rotation_status_file'"
     ]
    }
   ],
   "source": [
    "import yaml\n",
    "import os\n",
    "hunch_server_config = {}\n",
    "\n",
    "if 'aiconfig' in os.environ:\n",
    "    if os.path.exists(os.environ['aiconfig']):\n",
    "        with open(os.environ['aiconfig']) as f:\n",
    "            hunch_server_config = yaml.load(f)\n",
    "\n",
    "ROTATION_FILE_PATH = hunch_server_config[\"rotation_status_file\"]\n",
    "app = Flask(__name__)\n",
    "app.logger_name = \"hunch.app\"\n",
    "models_loaded = {}\n",
    "model_loader = ModelLoader(hunch_server_config)\n",
    "try:\n",
    "    if 'MODELS_TO_LOAD' in os.environ:\n",
    "        models_to_load = json.loads(os.environ['MODELS_TO_LOAD'])\n",
    "        models_loaded = model_loader.get_models_from_list(models_to_load)\n",
    "\n",
    "except requests.exceptions.HTTPError as e:\n",
    "    app.logger.error(\"Meta Service has thrown %s, the error is %s and stack trace is %s\"\n",
    "                     %(e.response.status_code, e.message, str(traceback.format_exc())))\n",
    "    raise RuntimeError(\"Meta Service has thrown '{}' , the error is {} and stack trace is {}\".format(e.response.status_code, e.message, str(traceback.format_exc())))"
   ]
  },
  {
   "cell_type": "code",
   "execution_count": 2,
   "metadata": {},
   "outputs": [
    {
     "data": {
      "text/plain": [
       "{}"
      ]
     },
     "execution_count": 2,
     "metadata": {},
     "output_type": "execute_result"
    }
   ],
   "source": [
    "hunch_server_config"
   ]
  },
  {
   "cell_type": "code",
   "execution_count": 4,
   "metadata": {},
   "outputs": [],
   "source": [
    "def lock(lockfile):\n",
    "    import fcntl\n",
    "    lockfd = open(lockfile, 'w+')\n",
    "    fcntl.flock(lockfd, fcntl.LOCK_EX | fcntl.LOCK_NB)\n",
    "    return lockfd\n",
    "\n",
    "\n",
    "def unlock(lockfd):\n",
    "    import fcntl\n",
    "    fcntl.flock(lockfd, fcntl.LOCK_UN)\n",
    "\n",
    "def write_rotation_status(file_path, status):\n",
    "    if os.path.isfile(file_path):\n",
    "        with open(file_path) as f:\n",
    "            lines = f.read().strip()\n",
    "            if lines == status:\n",
    "                return\n",
    "    lockfile = file_path + '.lock'\n",
    "    if not os.path.exists(lockfile):\n",
    "        fd = open(lockfile, 'w+')\n",
    "        fd.close()\n",
    "\n",
    "    lockfd = lock(lockfile)\n",
    "    file = open(file_path, 'w+')\n",
    "    file.write(status)\n",
    "    file.close()\n",
    "    unlock(lockfd)\n"
   ]
  },
  {
   "cell_type": "code",
   "execution_count": 5,
   "metadata": {},
   "outputs": [],
   "source": [
    "write_rotation_status('status.txt','online')"
   ]
  },
  {
   "cell_type": "code",
   "execution_count": 7,
   "metadata": {},
   "outputs": [],
   "source": [
    "state ='oor'\n",
    "if state == \"oor\" or state == \"OOR\":\n",
    "    write_rotation_status('status.txt', '0')\n",
    "    result = {'Message': \"Taking out of rotation\"}\n",
    "elif state == \"bir\" or state == \"BIR\":\n",
    "    write_rotation_status('status.txt', '1')"
   ]
  },
  {
   "cell_type": "code",
   "execution_count": 14,
   "metadata": {},
   "outputs": [],
   "source": [
    "env_value = os.getenv(\"AICONFIG\", None)"
   ]
  },
  {
   "cell_type": "code",
   "execution_count": 15,
   "metadata": {},
   "outputs": [],
   "source": [
    "env_value"
   ]
  },
  {
   "cell_type": "code",
   "execution_count": 19,
   "metadata": {},
   "outputs": [
    {
     "name": "stderr",
     "output_type": "stream",
     "text": [
      "usage: ipykernel_launcher.py [-h] [-a ARG [ARG ...]]\n",
      "ipykernel_launcher.py: error: unrecognized arguments: -f /Users/leepand/Library/Jupyter/runtime/kernel-2acca277-1212-4e32-8792-7d1b0c7ed778.json\n"
     ]
    },
    {
     "ename": "SystemExit",
     "evalue": "2",
     "output_type": "error",
     "traceback": [
      "An exception has occurred, use %tb to see the full traceback.\n",
      "\u001b[0;31mSystemExit\u001b[0m\u001b[0;31m:\u001b[0m 2\n"
     ]
    },
    {
     "name": "stderr",
     "output_type": "stream",
     "text": [
      "/Users/leepand/.local/lib/python2.7/site-packages/IPython/core/interactiveshell.py:2889: UserWarning: To exit: use 'exit', 'quit', or Ctrl-D.\n",
      "  warn(\"To exit: use 'exit', 'quit', or Ctrl-D.\", stacklevel=1)\n"
     ]
    }
   ],
   "source": [
    "import argparse\n",
    "parser = argparse.ArgumentParser()\n",
    "parser.add_argument('-a', '--arg', nargs='+', type=int)\n",
    "args = vars(parser.parse_args())\n",
    "\n",
    "print \"first parameter:\" + str(args[\"arg\"][0])\n",
    "print \"second parameter:\" + str(args[\"arg\"][1])\n",
    "print \"third parameter:\" + str(args[\"arg\"][2])"
   ]
  },
  {
   "cell_type": "code",
   "execution_count": 20,
   "metadata": {},
   "outputs": [
    {
     "name": "stdout",
     "output_type": "stream",
     "text": [
      "first parameter:\n"
     ]
    }
   ],
   "source": [
    "print \"first parameter:\""
   ]
  },
  {
   "cell_type": "code",
   "execution_count": 27,
   "metadata": {},
   "outputs": [],
   "source": [
    "x=['[fib_model,1.0.2]|[d,d]']\n",
    "t=[]\n",
    "for i in x:\n",
    "    t.append(i.split('|'))"
   ]
  },
  {
   "cell_type": "code",
   "execution_count": 31,
   "metadata": {},
   "outputs": [
    {
     "ename": "SyntaxError",
     "evalue": "invalid syntax (<unknown>, line 1)",
     "output_type": "error",
     "traceback": [
      "\u001b[0;36m  File \u001b[0;32m\"<unknown>\"\u001b[0;36m, line \u001b[0;32m1\u001b[0m\n\u001b[0;31m    [fib_model,1.0.2]|[d,d]\u001b[0m\n\u001b[0m                   ^\u001b[0m\n\u001b[0;31mSyntaxError\u001b[0m\u001b[0;31m:\u001b[0m invalid syntax\n"
     ]
    }
   ],
   "source": [
    "\n",
    "import ast\n",
    "ast.literal_eval(x[0])\n"
   ]
  },
  {
   "cell_type": "code",
   "execution_count": 32,
   "metadata": {},
   "outputs": [
    {
     "data": {
      "text/plain": [
       "['foo', '1', '-x', '2']"
      ]
     },
     "execution_count": 32,
     "metadata": {},
     "output_type": "execute_result"
    }
   ],
   "source": [
    "'foo 1 -x 2'.split()"
   ]
  },
  {
   "cell_type": "code",
   "execution_count": 39,
   "metadata": {},
   "outputs": [],
   "source": [
    "x='fib_model:1.0.2,HelloAI2:1.0.0'\n",
    "model_version_list=x.split(',')\n",
    "model_list=[]\n",
    "for model_version in model_version_list:\n",
    "    model_name=model_version.split(':')[0]\n",
    "    version=model_version.split(':')[1]\n",
    "    model_list.append([model_name,version])"
   ]
  },
  {
   "cell_type": "code",
   "execution_count": 36,
   "metadata": {},
   "outputs": [
    {
     "data": {
      "text/plain": [
       "['fib_model:1.0.2', 'HelloAI2:1.0.0']"
      ]
     },
     "execution_count": 36,
     "metadata": {},
     "output_type": "execute_result"
    }
   ],
   "source": [
    "model_version"
   ]
  },
  {
   "cell_type": "code",
   "execution_count": 40,
   "metadata": {},
   "outputs": [
    {
     "data": {
      "text/plain": [
       "[['fib_model', '1.0.2'], ['HelloAI2', '1.0.0']]"
      ]
     },
     "execution_count": 40,
     "metadata": {},
     "output_type": "execute_result"
    }
   ],
   "source": [
    "model_list"
   ]
  },
  {
   "cell_type": "code",
   "execution_count": null,
   "metadata": {},
   "outputs": [],
   "source": []
  }
 ],
 "metadata": {
  "kernelspec": {
   "display_name": "Python 2",
   "language": "python",
   "name": "python2"
  },
  "language_info": {
   "codemirror_mode": {
    "name": "ipython",
    "version": 2
   },
   "file_extension": ".py",
   "mimetype": "text/x-python",
   "name": "python",
   "nbconvert_exporter": "python",
   "pygments_lexer": "ipython2",
   "version": "2.7.13"
  }
 },
 "nbformat": 4,
 "nbformat_minor": 2
}
