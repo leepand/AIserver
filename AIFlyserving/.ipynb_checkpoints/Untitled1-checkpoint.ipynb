{
 "cells": [
  {
   "cell_type": "code",
   "execution_count": 5,
   "metadata": {},
   "outputs": [
    {
     "name": "stdout",
     "output_type": "stream",
     "text": [
      "Writing login.py\n"
     ]
    }
   ],
   "source": [
    "%%file login.py\n",
    "from flask import * \n",
    " \n",
    "app = Flask(__name__)\n",
    " \n",
    "@app.route(\"/login\",methods=['POST','GET'])\n",
    " \n",
    "def login():\n",
    "    error = None\n",
    "    if request.method == 'POST':\n",
    "        if request.form['username'] != 'admin' or request.form['password'] != 'admin123': \n",
    "                error= \"sorry\"\n",
    "        else:\n",
    "            return redirect(url_for('index'))\n",
    "    return render_template('login.html',error=error)\n",
    " \n",
    "@app.route(\"/index\")\n",
    "def index():\n",
    "    return render_template('index.html')\n",
    " \n",
    "if __name__ == \"__main__\":\n",
    "    app.run(host=\"0.0.0.0\", port=8089,debug=True)"
   ]
  },
  {
   "cell_type": "code",
   "execution_count": null,
   "metadata": {},
   "outputs": [],
   "source": []
  }
 ],
 "metadata": {
  "kernelspec": {
   "display_name": "Python 2",
   "language": "python",
   "name": "python2"
  },
  "language_info": {
   "codemirror_mode": {
    "name": "ipython",
    "version": 2
   },
   "file_extension": ".py",
   "mimetype": "text/x-python",
   "name": "python",
   "nbconvert_exporter": "python",
   "pygments_lexer": "ipython2",
   "version": "2.7.13"
  }
 },
 "nbformat": 4,
 "nbformat_minor": 2
}
