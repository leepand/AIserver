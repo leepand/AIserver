{
 "cells": [
  {
   "cell_type": "code",
   "execution_count": null,
   "metadata": {},
   "outputs": [],
   "source": [
    "%%file model_deploy.html\n",
    "{% include \"header.html\" %}\n",
    "\n",
    "  <br />\n",
    "  <div class=\"container\">\n",
    "\n",
    "    <form action=\"/run_deploy\" method=\"post\">\n",
    "      <div class=\"form-group row\">\n",
    "        <label for=\"inputEmail3\" class=\"col-sm-2 col-form-label\"><font color=\"red\">*</font> Model Name </label>\n",
    "        <div class=\"col-sm-10\">\n",
    "          <input type=\"text\" class=\"form-control\" name=\"config\" value=\"fib_model:1.0.2\" required=\"required\">\n",
    "        </div>\n",
    "      </div>\n",
    "      <div class=\"form-group row\">\n",
    "        <label for=\"inputEmail3\" class=\"col-sm-2 col-form-label\"><font color=\"red\">*</font> JSON Data</label>\n",
    "        <div class=\"col-sm-10\">\n",
    "          <textarea class=\"form-control\" rows=\"15\" cols=\"80\" name=\"json_data\"\n",
    "                                  required=\"required\">\n",
    "{\n",
    "  \"data\": 11\n",
    "}\n",
    "          </textarea>\n",
    "        </div>\n",
    "      </div>\n",
    "\n",
    "   \n",
    "      <div class=\"form-group row\">\n",
    "        <div class=\"col-sm-2\">\n",
    "          <label for=\"algorithm\">Algorithm</label>\n",
    "        </div>\n",
    "        <div class=\"col-sm-10\">\n",
    "          <select class=\"form-control\" id=\"algorithm\" name=\"algorithm\">\n",
    "            <option>BayesianOptimization</option>\n",
    "            <option>RandomSearchAlgorithm</option>\n",
    "            <option>GridSearchAlgorithm</option>\n",
    "            <option>PopulationBasedAlgorithm</option>\n",
    "          </select>\n",
    "        </div>\n",
    "      </div>\n",
    "    \n",
    "\n",
    "      <div class=\"form-group row\">\n",
    "        <div align=\"center\">\n",
    "          <button type=\"submit\" class=\"btn btn-primary\">Submit</button>\n",
    "        </div>\n",
    "      </div>\n",
    "    </form>\n",
    "\n",
    "    <h2>Predict result: </h2>\n",
    "    <p>{{ predict_result }}</p>\n",
    "\n",
    "  </div>\n",
    "\n",
    "\n",
    "{% include \"footer.html\" %}\n"
   ]
  }
 ],
 "metadata": {
  "kernelspec": {
   "display_name": "Python 2",
   "language": "python",
   "name": "python2"
  },
  "language_info": {
   "codemirror_mode": {
    "name": "ipython",
    "version": 2
   },
   "file_extension": ".py",
   "mimetype": "text/x-python",
   "name": "python",
   "nbconvert_exporter": "python",
   "pygments_lexer": "ipython2",
   "version": "2.7.13"
  }
 },
 "nbformat": 4,
 "nbformat_minor": 2
}
