{
 "cells": [
  {
   "cell_type": "code",
   "execution_count": 7,
   "metadata": {},
   "outputs": [
    {
     "name": "stdout",
     "output_type": "stream",
     "text": [
      "Writing redis_test.py\n"
     ]
    }
   ],
   "source": [
    "%%file redis_test.py\n",
    "# -*- coding: utf-8 -*-\n",
    "\"\"\"\n",
    "    requests_cache.backends.redisdict\n",
    "    ~~~~~~~~~~~~~~~~~~~~~~~~~~~~~~~~~\n",
    "    Dictionary-like objects for saving large data sets to ``redis`` key-store\n",
    "\"\"\"\n",
    "from collections import MutableMapping\n",
    "try:\n",
    "    import cPickle as pickle\n",
    "except ImportError:\n",
    "    import pickle\n",
    "from redis import StrictRedis as Redis\n",
    "\n",
    "\n",
    "class RedisDict(MutableMapping):\n",
    "    \"\"\" RedisDict - a dictionary-like interface for ``redis`` key-stores\n",
    "    \"\"\"\n",
    "    def __init__(self, namespace, collection_name='redis_dict_data',\n",
    "                 connection=None):\n",
    "        \"\"\"\n",
    "        The actual key name on the redis server will be\n",
    "        ``namespace``:``collection_name``\n",
    "        In order to deal with how redis stores data/keys,\n",
    "        everything, i.e. keys and data, must be pickled.\n",
    "        :param namespace: namespace to use\n",
    "        :param collection_name: name of the hash map stored in redis\n",
    "                                (default: redis_dict_data)\n",
    "        :param connection: ``redis.StrictRedis`` instance.\n",
    "                           If it's ``None`` (default), a new connection with\n",
    "                           default options will be created\n",
    "        \"\"\"\n",
    "        if connection is not None:\n",
    "            self.connection = connection\n",
    "        else:\n",
    "            self.connection = Redis()\n",
    "        self._self_key = ':'.join([namespace, collection_name])\n",
    "\n",
    "    def __getitem__(self, key):\n",
    "        result = self.connection.hget(self._self_key, pickle.dumps(key))\n",
    "        if result is None:\n",
    "            raise KeyError\n",
    "        return pickle.loads(bytes(result))\n",
    "\n",
    "    def __setitem__(self, key, item):\n",
    "        self.connection.hset(self._self_key, pickle.dumps(key),\n",
    "                             pickle.dumps(item))\n",
    "\n",
    "    def __delitem__(self, key):\n",
    "        if not self.connection.hdel(self._self_key, pickle.dumps(key)):\n",
    "            raise KeyError\n",
    "\n",
    "    def __len__(self):\n",
    "        return self.connection.hlen(self._self_key)\n",
    "\n",
    "    def __iter__(self):\n",
    "        for v in self.connection.hkeys(self._self_key):\n",
    "            yield pickle.loads(bytes(v))\n",
    "\n",
    "    def clear(self):\n",
    "        self.connection.delete(self._self_key)\n",
    "\n",
    "    def __str__(self):\n",
    "        return str(dict(self.items()))"
   ]
  },
  {
   "cell_type": "code",
   "execution_count": 8,
   "metadata": {},
   "outputs": [],
   "source": [
    "from redis_test import RedisDict\n",
    "test=RedisDict(namespace='web_ui')\n"
   ]
  },
  {
   "cell_type": "code",
   "execution_count": 11,
   "metadata": {},
   "outputs": [],
   "source": [
    "test['model_info']={\n",
    "  \"model_config_list\": [\n",
    "    {\n",
    "      \"name\": \"tensorflow_template_application_model\",\n",
    "      \"base_path\": \"./models/tensorflow_template_application_model/\",\n",
    "      \"platform\": \"tensorflow\"\n",
    "    }, {\n",
    "      \"name\": \"deep_image_model\",\n",
    "      \"base_path\": \"./models/deep_image_model/\",\n",
    "      \"platform\": \"tensorflow\"\n",
    "    }, {\n",
    "       \"name\": \"mxnet_mlp_model\",\n",
    "       \"base_path\": \"./models/mxnet_mlp/mx_mlp\",\n",
    "       \"platform\": \"mxnet\"\n",
    "    }\n",
    "  ]\n",
    "}"
   ]
  },
  {
   "cell_type": "code",
   "execution_count": 12,
   "metadata": {},
   "outputs": [
    {
     "name": "stdout",
     "output_type": "stream",
     "text": [
      "d 1\n",
      "model_info {'model_config_list': [{'platform': 'tensorflow', 'name': 'tensorflow_template_application_model', 'base_path': './models/tensorflow_template_application_model/'}, {'platform': 'tensorflow', 'name': 'deep_image_model', 'base_path': './models/deep_image_model/'}, {'platform': 'mxnet', 'name': 'mxnet_mlp_model', 'base_path': './models/mxnet_mlp/mx_mlp'}]}\n"
     ]
    }
   ],
   "source": [
    "for k,v in test.items():\n",
    "    print k,v"
   ]
  },
  {
   "cell_type": "code",
   "execution_count": null,
   "metadata": {},
   "outputs": [],
   "source": []
  }
 ],
 "metadata": {
  "kernelspec": {
   "display_name": "Python 2",
   "language": "python",
   "name": "python2"
  },
  "language_info": {
   "codemirror_mode": {
    "name": "ipython",
    "version": 2
   },
   "file_extension": ".py",
   "mimetype": "text/x-python",
   "name": "python",
   "nbconvert_exporter": "python",
   "pygments_lexer": "ipython2",
   "version": "2.7.13"
  }
 },
 "nbformat": 4,
 "nbformat_minor": 2
}
